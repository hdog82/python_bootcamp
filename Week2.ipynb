{
 "cells": [
  {
   "cell_type": "code",
   "execution_count": 2,
   "metadata": {},
   "outputs": [
    {
     "name": "stdout",
     "output_type": "stream",
     "text": [
      "There's a snake in my boot!\n"
     ]
    },
    {
     "data": {
      "text/plain": [
       "str"
      ]
     },
     "execution_count": 2,
     "metadata": {},
     "output_type": "execute_result"
    }
   ],
   "source": [
    "#Comments and basic data types\n",
    "\"\"\" DATA TYPES \n",
    "Integer 5 (whole numbers)\n",
    "Float 5.7 (decimals)\n",
    "Boolean True/False\n",
    "String \"characters within quotes\"\n",
    "\"\"\"\n",
    "print(\"There's a snake in my boot!\")\n",
    "type(\"There's a snake in my boot!\")"
   ]
  },
  {
   "cell_type": "code",
   "execution_count": 3,
   "metadata": {},
   "outputs": [
    {
     "data": {
      "text/plain": [
       "float"
      ]
     },
     "execution_count": 3,
     "metadata": {},
     "output_type": "execute_result"
    }
   ],
   "source": [
    "a = 34.5\n",
    "type(a)"
   ]
  },
  {
   "cell_type": "code",
   "execution_count": 5,
   "metadata": {},
   "outputs": [
    {
     "data": {
      "text/plain": [
       "bool"
      ]
     },
     "execution_count": 5,
     "metadata": {},
     "output_type": "execute_result"
    }
   ],
   "source": [
    "Buses_are_large = True\n",
    "type(Buses_are_large)"
   ]
  },
  {
   "cell_type": "code",
   "execution_count": 6,
   "metadata": {},
   "outputs": [
    {
     "name": "stdout",
     "output_type": "stream",
     "text": [
      "34.5 True\n"
     ]
    }
   ],
   "source": [
    "print(a,Buses_are_large) #printing multiple items"
   ]
  },
  {
   "cell_type": "code",
   "execution_count": 8,
   "metadata": {},
   "outputs": [
    {
     "name": "stdout",
     "output_type": "stream",
     "text": [
      "34.5 , True\n"
     ]
    }
   ],
   "source": [
    "print(a,\",\",Buses_are_large) "
   ]
  },
  {
   "cell_type": "code",
   "execution_count": 10,
   "metadata": {},
   "outputs": [
    {
     "name": "stdout",
     "output_type": "stream",
     "text": [
      "Hannah 66\n"
     ]
    }
   ],
   "source": [
    "name = \"Hannah\"\n",
    "fav_number = 66\n",
    "print(name, fav_number)"
   ]
  },
  {
   "cell_type": "code",
   "execution_count": 12,
   "metadata": {},
   "outputs": [
    {
     "name": "stdout",
     "output_type": "stream",
     "text": [
      "-2\n"
     ]
    }
   ],
   "source": [
    "a = 3\n",
    "b= -5\n",
    "print(a+b) #using two variables to create another variable"
   ]
  },
  {
   "cell_type": "code",
   "execution_count": 13,
   "metadata": {},
   "outputs": [
    {
     "name": "stdout",
     "output_type": "stream",
     "text": [
      "-2\n"
     ]
    }
   ],
   "source": [
    "result = a + b\n",
    "print(result)"
   ]
  },
  {
   "cell_type": "code",
   "execution_count": 16,
   "metadata": {},
   "outputs": [
    {
     "name": "stdout",
     "output_type": "stream",
     "text": [
      "1\n"
     ]
    }
   ],
   "source": [
    "#adding, deleting, multiplying, dividing from a variable \n",
    "result += 1 #the same as result = result +1\n",
    "print (result)"
   ]
  },
  {
   "cell_type": "code",
   "execution_count": 17,
   "metadata": {},
   "outputs": [
    {
     "name": "stdout",
     "output_type": "stream",
     "text": [
      "3\n"
     ]
    }
   ],
   "source": [
    "result *= a #same as result * a\n",
    "print(result)"
   ]
  },
  {
   "cell_type": "code",
   "execution_count": 18,
   "metadata": {},
   "outputs": [
    {
     "name": "stdout",
     "output_type": "stream",
     "text": [
      "30\n"
     ]
    }
   ],
   "source": [
    "x = 3\n",
    "y = 10\n",
    "result = x*y\n",
    "print(result)"
   ]
  },
  {
   "cell_type": "code",
   "execution_count": 19,
   "metadata": {},
   "outputs": [
    {
     "name": "stdout",
     "output_type": "stream",
     "text": [
      "3354.0764\n"
     ]
    }
   ],
   "source": [
    "Area = 245.54*13.66\n",
    "print(Area)"
   ]
  },
  {
   "cell_type": "code",
   "execution_count": 20,
   "metadata": {},
   "outputs": [],
   "source": [
    "#Working with strings"
   ]
  },
  {
   "cell_type": "code",
   "execution_count": 23,
   "metadata": {},
   "outputs": [
    {
     "name": "stdout",
     "output_type": "stream",
     "text": [
      "Han Solo\n"
     ]
    }
   ],
   "source": [
    "Firstname = \"Han\" \n",
    "Lastname = \"Solo\"\n",
    "fullname = Firstname + \" \"+Lastname\n",
    "print(fullname)"
   ]
  },
  {
   "cell_type": "code",
   "execution_count": 38,
   "metadata": {},
   "outputs": [
    {
     "name": "stdout",
     "output_type": "stream",
     "text": [
      "Hello Han, you are cool\n"
     ]
    }
   ],
   "source": [
    "\"\"\"\n",
    ".format() \n",
    "injecting variables using the format method -> insert data into {}\n",
    "IMPORTANT\n",
    "\"\"\"\n",
    "Firstname = \"Han\"\n",
    "print(\"Hello {}, you are {}\".format(Firstname,\"cool\"))"
   ]
  },
  {
   "cell_type": "code",
   "execution_count": 27,
   "metadata": {},
   "outputs": [
    {
     "name": "stdout",
     "output_type": "stream",
     "text": [
      "Hello bruce\n"
     ]
    }
   ],
   "source": [
    "#f strings - putting f infront of the string allows you to inject values directly inline\n",
    "name = \"bruce\"\n",
    "print(f\"Hello {name}\")"
   ]
  },
  {
   "cell_type": "code",
   "execution_count": 28,
   "metadata": {},
   "outputs": [
    {
     "name": "stdout",
     "output_type": "stream",
     "text": [
      "h\n",
      "e\n",
      "o\n"
     ]
    }
   ],
   "source": [
    "#INDEXING -remember indexing starts at 0 \n",
    "word = \"hello\"\n",
    "print(word[0])\n",
    "print(word[1])\n",
    "print(word[4])"
   ]
  },
  {
   "cell_type": "code",
   "execution_count": 33,
   "metadata": {},
   "outputs": [
    {
     "name": "stdout",
     "output_type": "stream",
     "text": [
      "he\n",
      "hlo\n"
     ]
    }
   ],
   "source": [
    "\"\"\"\n",
    "String slicing -taking only parts of the variable \n",
    " variable_name[ start : stop : step ]\n",
    "\"\"\"\n",
    "print(word[0:2])\n",
    "print(word[0:5:2]) #step is printing every second value from 0-5"
   ]
  },
  {
   "cell_type": "code",
   "execution_count": 68,
   "metadata": {},
   "outputs": [
    {
     "name": "stdout",
     "output_type": "stream",
     "text": [
      "olleH\n",
      "olleH\n",
      "olle\n"
     ]
    }
   ],
   "source": [
    "word = \"Hello\"\n",
    "print(word[::-1]) \n",
    "print(word[4::-1]) #leaving the stop blank will print all elements \n",
    "print(word[4:0:-1]) #4-0 stop printing at that point (0), so the 0 element is not included"
   ]
  },
  {
   "cell_type": "code",
   "execution_count": 35,
   "metadata": {},
   "outputs": [
    {
     "name": "stdout",
     "output_type": "stream",
     "text": [
      "23 4.5 True John\n"
     ]
    }
   ],
   "source": [
    "a = 23\n",
    "frogs = True\n",
    "name = \"John\"\n",
    "print(\"{} {} {} {}\".format(a,\"4.5\",frogs,name))\n"
   ]
  },
  {
   "cell_type": "code",
   "execution_count": 37,
   "metadata": {},
   "outputs": [
    {
     "name": "stdout",
     "output_type": "stream",
     "text": [
      "Hannah's favourite sport is hockey\n",
      "Hannah is working on programming!\n"
     ]
    }
   ],
   "source": [
    "print(\"{}'s favourite sport is {}\".format(\"Hannah\", \"hockey\"))\n",
    "print(\"{} is working on programming!\".format(\"Hannah\"))"
   ]
  },
  {
   "cell_type": "code",
   "execution_count": 41,
   "metadata": {},
   "outputs": [
    {
     "name": "stdout",
     "output_type": "stream",
     "text": [
      "Hannah\n",
      "hannah\n",
      "HANNAH\n"
     ]
    }
   ],
   "source": [
    "# .title()\n",
    "# using the title method to capitalize a string\n",
    "name = \"hannah\"\n",
    "print(name.title())\n",
    "print(name.lower())\n",
    "print(name.upper())\n"
   ]
  },
  {
   "cell_type": "code",
   "execution_count": 43,
   "metadata": {},
   "outputs": [
    {
     "name": "stdout",
     "output_type": "stream",
     "text": [
      "I love this so much.\n"
     ]
    }
   ],
   "source": [
    "#.replace \n",
    "#Find and replace tool e.g. replacing ! with .\n",
    "words = \"I love this so much!\"\n",
    "print(words.replace(\"!\",\".\"))"
   ]
  },
  {
   "cell_type": "code",
   "execution_count": 44,
   "metadata": {},
   "outputs": [
    {
     "name": "stdout",
     "output_type": "stream",
     "text": [
      "I love this so much!\n",
      "I love this so much.\n"
     ]
    }
   ],
   "source": [
    "print(words)\n",
    "print(words.replace(\"!\",\".\"))\n",
    "words = words.replace(\"!\",\".\")"
   ]
  },
  {
   "cell_type": "code",
   "execution_count": 45,
   "metadata": {},
   "outputs": [
    {
     "name": "stdout",
     "output_type": "stream",
     "text": [
      "I love this so much.\n"
     ]
    }
   ],
   "source": [
    "print(words)"
   ]
  },
  {
   "cell_type": "code",
   "execution_count": 48,
   "metadata": {},
   "outputs": [
    {
     "name": "stdout",
     "output_type": "stream",
     "text": [
      "I hate this so much.\n"
     ]
    }
   ],
   "source": [
    "print(words.replace(\"love\", \"hate\"))\n",
    "\n",
    "#can't find and replace multiple variables in the same argument??"
   ]
  },
  {
   "cell_type": "code",
   "execution_count": 49,
   "metadata": {},
   "outputs": [
    {
     "name": "stdout",
     "output_type": "stream",
     "text": [
      "5\n"
     ]
    }
   ],
   "source": [
    "# finding the starting index of our searched term\n",
    "s = \"Look over that way\"\n",
    "print( s.find(\"over\") )"
   ]
  },
  {
   "cell_type": "code",
   "execution_count": 74,
   "metadata": {},
   "outputs": [
    {
     "name": "stdout",
     "output_type": "stream",
     "text": [
      "jeremy\n",
      "jeremy \n",
      " jeremy\n"
     ]
    }
   ],
   "source": [
    "#.strip function \n",
    "# to remove characters on left and right hand side of string\n",
    "name = \" jeremy \"\n",
    "print(name.strip())\n",
    "print(name.lstrip())\n",
    "print(name.rstrip())\n"
   ]
  },
  {
   "cell_type": "code",
   "execution_count": 75,
   "metadata": {},
   "outputs": [
    {
     "name": "stdout",
     "output_type": "stream",
     "text": [
      "['These', 'words', 'are', 'separated', 'by', 'spaces']\n"
     ]
    }
   ],
   "source": [
    "# converting a string into a list of words\n",
    "s = \"These words are separated by spaces\"\n",
    "print( s.split(\" \") )"
   ]
  },
  {
   "cell_type": "code",
   "execution_count": 77,
   "metadata": {},
   "outputs": [
    {
     "name": "stdout",
     "output_type": "stream",
     "text": [
      "<built-in method upper of str object at 0x000002BEA4AE2670>\n"
     ]
    }
   ],
   "source": [
    "name = \"Hannah\"\n",
    "print(name.upper)"
   ]
  },
  {
   "cell_type": "code",
   "execution_count": null,
   "metadata": {},
   "outputs": [],
   "source": []
  }
 ],
 "metadata": {
  "kernelspec": {
   "display_name": "Python 3",
   "language": "python",
   "name": "python3"
  },
  "language_info": {
   "codemirror_mode": {
    "name": "ipython",
    "version": 3
   },
   "file_extension": ".py",
   "mimetype": "text/x-python",
   "name": "python",
   "nbconvert_exporter": "python",
   "pygments_lexer": "ipython3",
   "version": "3.13.0"
  }
 },
 "nbformat": 4,
 "nbformat_minor": 2
}
