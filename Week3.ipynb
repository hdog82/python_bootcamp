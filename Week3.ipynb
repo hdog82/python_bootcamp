{
 "cells": [
  {
   "cell_type": "code",
   "execution_count": null,
   "metadata": {},
   "outputs": [],
   "source": [
    "\"\"\"\n",
    "WEEK 3 User input and conditionals\n",
    "• Working with user input\n",
    "• How to use “if” statements to make decisions\n",
    "• How to use “elif” statements to make multiple decisions\n",
    "• How to use “else” statements to make decisions no matter what\n",
    "• Building a calculator with decision-making and user input\n",
    "\"\"\""
   ]
  },
  {
   "cell_type": "code",
   "execution_count": 22,
   "metadata": {},
   "outputs": [
    {
     "name": "stdout",
     "output_type": "stream",
     "text": [
      "Football is my favorite sport\n"
     ]
    },
    {
     "data": {
      "text/plain": [
       "'If you were to run the code block for the challenge question, you would find that it\\nproduces an error. This is because we try to access our “element” variable before it’s\\ndeclared. If you were to reverse these two lines, the program would work as desired.\\nApparently the code still runs in this version...?'"
      ]
     },
     "execution_count": 22,
     "metadata": {},
     "output_type": "execute_result"
    }
   ],
   "source": [
    "#Challenge -will this code work\n",
    "\"\"\"\n",
    "print('{} is my favorite sport'.format(element))\n",
    "element = 'Football'\n",
    "No because the element is not defined before the print statement\"\"\"\n",
    "element = 'Football'\n",
    "print('{} is my favorite sport'.format(element))\n",
    "\n",
    "\n",
    "\"\"\"If you were to run the code block for the challenge question, you would find that it\n",
    "produces an error. This is because we try to access our “element” variable before it’s\n",
    "declared. If you were to reverse these two lines, the program would work as desired.\n",
    "Apparently the code still runs in this version...?\"\"\""
   ]
  },
  {
   "cell_type": "code",
   "execution_count": 8,
   "metadata": {},
   "outputs": [
    {
     "name": "stdout",
     "output_type": "stream",
     "text": [
      "\n"
     ]
    }
   ],
   "source": [
    "#User input and type converting\n",
    "#Use the input() function\n",
    "#print(input('What is your name? ')) this code won't run..."
   ]
  },
  {
   "cell_type": "code",
   "execution_count": 1,
   "metadata": {},
   "outputs": [
    {
     "name": "stdout",
     "output_type": "stream",
     "text": [
      "Horse\n"
     ]
    }
   ],
   "source": [
    "print( input(\"What is your name? \") )"
   ]
  },
  {
   "cell_type": "code",
   "execution_count": 2,
   "metadata": {},
   "outputs": [
    {
     "name": "stdout",
     "output_type": "stream",
     "text": [
      "Hello Horse!\n"
     ]
    }
   ],
   "source": [
    "ans = input(\"What is your name?\");print(\"Hello {}!\".format(ans))"
   ]
  },
  {
   "cell_type": "code",
   "execution_count": 8,
   "metadata": {},
   "outputs": [
    {
     "name": "stdout",
     "output_type": "stream",
     "text": [
      "<class 'int'>\n",
      "<class 'str'>\n",
      "<class 'int'>\n"
     ]
    }
   ],
   "source": [
    "#Checking and converting data types\n",
    "#type() function checks the data type \n",
    "num = 5\n",
    "print(type(num))\n",
    "\n",
    "#Converting a variable from one data type to another use \n",
    "a = '9'\n",
    "print(type(a))\n",
    "a = int(a) #re-declare to store as an integer \n",
    "print(type(a))\n",
    "\n",
    "#use str(), int(), float(), bool()"
   ]
  },
  {
   "cell_type": "code",
   "execution_count": 9,
   "metadata": {},
   "outputs": [
    {
     "name": "stdout",
     "output_type": "stream",
     "text": [
      "<class 'str'>\n",
      "100 + 34 = 134\n"
     ]
    }
   ],
   "source": [
    "#Converting user input\n",
    "ans=input(\"Type any number:\")\n",
    "print(type(ans)) #default type is str, so must convert\n",
    "result = 100 +int(ans)\n",
    "print(\"100 + {} = {}\".format(ans,result))"
   ]
  },
  {
   "cell_type": "code",
   "execution_count": 11,
   "metadata": {},
   "outputs": [
    {
     "name": "stdout",
     "output_type": "stream",
     "text": [
      "You did not enter a valid number >:(\n",
      "The program did not break..\n"
     ]
    }
   ],
   "source": [
    "#what if the user inputs a word instead of a number? Handling errors can stop code from breaking \n",
    "try:\n",
    "    ans=float(input(\"Type a number to add: \"))\n",
    "    print(\"100 + {} = {}\".format(ans,100+ans))\n",
    "except:\n",
    "    print(\"You did not enter a valid number >:(\")\n",
    "print(\"The program did not break..\")"
   ]
  },
  {
   "cell_type": "code",
   "execution_count": 15,
   "metadata": {},
   "outputs": [
    {
     "name": "stdout",
     "output_type": "stream",
     "text": [
      "100 + 5 = 105\n",
      "The program did not break..\n"
     ]
    }
   ],
   "source": [
    "try:\n",
    "    ans=int(input(\"Type a number to add: \"))\n",
    "    print(\"100 + {} = {}\".format(ans,100+ans))\n",
    "except:\n",
    "    print(\"You did not enter a valid number >:(\")\n",
    "print(\"The program did not break..\")\n"
   ]
  },
  {
   "cell_type": "code",
   "execution_count": 20,
   "metadata": {},
   "outputs": [
    {
     "name": "stdout",
     "output_type": "stream",
     "text": [
      "<class 'str'>\n",
      "<class 'bool'>\n",
      "True\n"
     ]
    }
   ],
   "source": [
    "cat = \"true\"\n",
    "print(type(cat))\n",
    "cat = bool(cat)\n",
    "print(type(cat))\n",
    "print(cat)\n"
   ]
  },
  {
   "cell_type": "code",
   "execution_count": 26,
   "metadata": {},
   "outputs": [
    {
     "name": "stdout",
     "output_type": "stream",
     "text": [
      "1  +  5 = 6\n"
     ]
    }
   ],
   "source": [
    "num1=int(input(\"Enter a number between 1-100\"))\n",
    "num2=int(input(\"Enter a number between 1-100\"))\n",
    "print(num1,\" + \",num2,\"=\",num1+num2)\n"
   ]
  },
  {
   "cell_type": "code",
   "execution_count": 32,
   "metadata": {},
   "outputs": [
    {
     "name": "stdout",
     "output_type": "stream",
     "text": [
      "Officer, put his car into the system, we're looking for a 2012 white Mitsubishi Lancer \n",
      "He's slipped our fingers far too often, but now he will pay for his crimes.\n"
     ]
    }
   ],
   "source": [
    "\n",
    "year=str(input(\"Year of car manufacture: \"))\n",
    "make=str(input(\"Make of car: \"))\n",
    "colour=str(input(\"Colour: \"))\n",
    "print(\"Officer, put his car into the system, we're looking for a\",year,colour,make,\"\\nHe's slipped our fingers far too often, but now he will pay for his crimes.\")"
   ]
  },
  {
   "cell_type": "code",
   "execution_count": 33,
   "metadata": {},
   "outputs": [
    {
     "name": "stdout",
     "output_type": "stream",
     "text": [
      "x is less than y\n"
     ]
    }
   ],
   "source": [
    "# using an if statement to only run code if the condition is met\n",
    "x, y = 5, 10\n",
    "if x < y:\n",
    " print(\"x is less than y\")"
   ]
  },
  {
   "cell_type": "code",
   "execution_count": 34,
   "metadata": {},
   "outputs": [
    {
     "data": {
      "text/plain": [
       "' \\n== equal to\\n!= does not equal\\n> greater than\\n< less than \\n>= greater than or equal to\\n<= less than or equal to\\n'"
      ]
     },
     "execution_count": 34,
     "metadata": {},
     "output_type": "execute_result"
    }
   ],
   "source": [
    "\"\"\" \n",
    "== equal to\n",
    "!= does not equal\n",
    "> greater than\n",
    "< less than \n",
    ">= greater than or equal to\n",
    "<= less than or equal to\n",
    "\"\"\""
   ]
  },
  {
   "cell_type": "code",
   "execution_count": 35,
   "metadata": {},
   "outputs": [
    {
     "name": "stdout",
     "output_type": "stream",
     "text": [
      "You got it right!\n"
     ]
    }
   ],
   "source": [
    "# checking user input\n",
    "ans = int( input(\"What is 5 + 5? \") )\n",
    "if ans == 10:\n",
    " print(\"You got it right!\")"
   ]
  },
  {
   "cell_type": "code",
   "execution_count": 39,
   "metadata": {},
   "outputs": [
    {
     "name": "stdout",
     "output_type": "stream",
     "text": [
      "Try again\n"
     ]
    }
   ],
   "source": [
    "# checking user input\n",
    "ans = int( input(\"What is 5 + 5? \") )\n",
    "if ans == 10:\n",
    " print(\"You got it right!\")\n",
    "if ans != 10:\n",
    "    print(\"Try again\")\n",
    " "
   ]
  },
  {
   "cell_type": "code",
   "execution_count": 40,
   "metadata": {},
   "outputs": [
    {
     "name": "stdout",
     "output_type": "stream",
     "text": [
      "Both statements are true\n"
     ]
    }
   ],
   "source": [
    "#and and if\n",
    "x,y,z = 5, 10,5\n",
    "if x<y and x==z:\n",
    "    print(\"Both statements are true\")"
   ]
  },
  {
   "cell_type": "code",
   "execution_count": 41,
   "metadata": {},
   "outputs": [
    {
     "name": "stdout",
     "output_type": "stream",
     "text": [
      "One or both statements were true\n"
     ]
    }
   ],
   "source": [
    "# using the keyword 'or' in an 'if statement'\n",
    "x, y, z = 5, 10, 5\n",
    "if x < y or x != z:\n",
    " print(\"One or both statements were true\")"
   ]
  },
  {
   "cell_type": "code",
   "execution_count": 42,
   "metadata": {},
   "outputs": [
    {
     "name": "stdout",
     "output_type": "stream",
     "text": [
      "Flag is False\n"
     ]
    }
   ],
   "source": [
    "# using the keyword 'not' within an 'if statement'\n",
    "flag = False\n",
    "if not flag: # same as saying if not true\n",
    " print(\"Flag is False\")\n",
    " "
   ]
  },
  {
   "cell_type": "code",
   "execution_count": 45,
   "metadata": {},
   "outputs": [
    {
     "name": "stdout",
     "output_type": "stream",
     "text": [
      "Flag is False\n"
     ]
    }
   ],
   "source": [
    "flag = False\n",
    "if flag != True: # same as saying if not true\n",
    " print(\"Flag is False\")"
   ]
  },
  {
   "cell_type": "code",
   "execution_count": 50,
   "metadata": {},
   "outputs": [
    {
     "name": "stdout",
     "output_type": "stream",
     "text": [
      "Baseball contains the character b\n",
      "Baseball contains the character b\n",
      "Baseall contains the character b\n"
     ]
    }
   ],
   "source": [
    "# using the keyword 'in' within an 'if statement'\n",
    "word = \"Baseball\"\n",
    "if \"b\" in word:\n",
    " print( \"{} contains the character b\".format(word) )\n",
    "\n",
    "word = \"Baseall\"\n",
    "if \"b\" in word:\n",
    " print( \"{} contains the character b\".format(word) )\n",
    "\n",
    "word = \"Baseball\"\n",
    "if \"b\" in word or \"B\" in word:\n",
    " print( \"{} contains the character b\".format(word) )\n",
    "\n",
    "word = \"Baseall\"\n",
    "if \"b\" in word or \"B\" in word:\n",
    " print( \"{} contains the character b\".format(word) )"
   ]
  },
  {
   "cell_type": "code",
   "execution_count": 51,
   "metadata": {},
   "outputs": [
    {
     "name": "stdout",
     "output_type": "stream",
     "text": [
      "Baseball does not contain character y\n"
     ]
    }
   ],
   "source": [
    "word = \"Baseball\"\n",
    "if \"y\" not in word:\n",
    "    print(\"{} does not contain character y\".format(word))"
   ]
  },
  {
   "cell_type": "code",
   "execution_count": 53,
   "metadata": {},
   "outputs": [
    {
     "name": "stdout",
     "output_type": "stream",
     "text": [
      "es is in word\n"
     ]
    }
   ],
   "source": [
    "word = input(\"Any word:\")\n",
    "if \"es\" in word:\n",
    "    print(\"es is in word\")\n",
    "if \"es\" not in word:\n",
    "    print(\"es is not in word\")"
   ]
  },
  {
   "cell_type": "code",
   "execution_count": 54,
   "metadata": {},
   "outputs": [
    {
     "name": "stdout",
     "output_type": "stream",
     "text": [
      "es is not in word\n"
     ]
    }
   ],
   "source": [
    "word = input(\"Any word:\")\n",
    "if \"es\" in word:\n",
    "    print(\"es is in word\")\n",
    "if \"es\" not in word:\n",
    "    print(\"es is not in word\")"
   ]
  },
  {
   "cell_type": "code",
   "execution_count": 57,
   "metadata": {},
   "outputs": [
    {
     "name": "stdout",
     "output_type": "stream",
     "text": [
      "Your word ends with \"ing\"\n"
     ]
    }
   ],
   "source": [
    "ans = input('Please input a word: ')\n",
    "\n",
    "if 'ing' in ans[-3:]:\n",
    "    print('Your word ends with \"ing\"')\n",
    "elif 'ing' not in ans[-3:]:\n",
    "    print('Your word does not end with \"ing\"')"
   ]
  },
  {
   "cell_type": "code",
   "execution_count": 60,
   "metadata": {},
   "outputs": [
    {
     "name": "stdout",
     "output_type": "stream",
     "text": [
      "orl\n"
     ]
    }
   ],
   "source": [
    "\"\"\"Negative slicing \n",
    "Get the characters:\n",
    "\n",
    "From: \"o\" in \"World!\" (position -5)\n",
    "\n",
    "To, but not included: \"d\" in \"World!\" (position -2):\n",
    "\"\"\"\n",
    "\n",
    "b = \"Hello, World!\"\n",
    "print(b[-5:-2])"
   ]
  },
  {
   "cell_type": "code",
   "execution_count": 67,
   "metadata": {},
   "outputs": [
    {
     "name": "stdout",
     "output_type": "stream",
     "text": [
      "You have entered the same word twice!\n"
     ]
    }
   ],
   "source": [
    "#Ask the user to input two words and write a conditional statement to check if both words are the same.\n",
    "word1=input(\"type a word\")\n",
    "word2=input(\"type another word\")\n",
    "\n",
    "#use .lower to make it case insensititve \n",
    "if word1 == word2:\n",
    "    print(\"You have entered the same word twice!\")\n",
    "elif word != word2:\n",
    "    print(\"Your words are not the same\")\n"
   ]
  },
  {
   "cell_type": "code",
   "execution_count": 66,
   "metadata": {},
   "outputs": [
    {
     "name": "stdout",
     "output_type": "stream",
     "text": [
      "<class 'str'>\n",
      "<class 'int'>\n"
     ]
    }
   ],
   "source": [
    "num = (input(\"Write a number\"))\n",
    "print(type(num))\n",
    "num = int(num)\n",
    "print(type(num))\n",
    "\n"
   ]
  },
  {
   "cell_type": "code",
   "execution_count": 72,
   "metadata": {},
   "outputs": [
    {
     "name": "stdout",
     "output_type": "stream",
     "text": [
      "9\n"
     ]
    }
   ],
   "source": [
    "num = input(\"Number\")\n",
    "num = int(num)\n",
    "if num<10:\n",
    "    print(num**2)"
   ]
  },
  {
   "cell_type": "code",
   "execution_count": 73,
   "metadata": {},
   "outputs": [
    {
     "name": "stdout",
     "output_type": "stream",
     "text": [
      "x is less\n"
     ]
    }
   ],
   "source": [
    "\"\"\"Elif statements \n",
    "\n",
    "- Python works in top to bottom order, so\n",
    "it checks the first if statement; if that statement is False, it continues to the first elif\n",
    "statement and checks that condition. If that condition returns False as well, it continues\n",
    "to the next conditional statement until there are no more to check. \n",
    "\n",
    " However, once a\n",
    "single conditional statement returns True, all other conditionals are skipped, even if\n",
    "they are True.\"\"\"\n",
    "\n",
    "#using elif \n",
    "x, y = 5, 10\n",
    "if x > y:\n",
    " print(\"x is greater\")\n",
    "elif x < y:\n",
    " print(\"x is less\")\n"
   ]
  },
  {
   "cell_type": "code",
   "execution_count": 74,
   "metadata": {},
   "outputs": [
    {
     "name": "stdout",
     "output_type": "stream",
     "text": [
      "equal\n"
     ]
    }
   ],
   "source": [
    "x, y = 5, 10\n",
    "if x > y:\n",
    " print(\"x is greater\")\n",
    "elif (x + 10) < y: # checking if 15 is less than 10\n",
    " print(\"x is less\")\n",
    "elif (x + 5) == y: # checking if 10 is equal to 10\n",
    " print(\"equal\")"
   ]
  },
  {
   "cell_type": "code",
   "execution_count": 75,
   "metadata": {},
   "outputs": [
    {
     "name": "stdout",
     "output_type": "stream",
     "text": [
      "x is equal to z\n"
     ]
    }
   ],
   "source": [
    "# writing multiple conditionals within each other - multiple block levels\n",
    "x, y, z = 5, 10, 5\n",
    "if x > y:\n",
    " print(\"greater\")\n",
    "elif x <= y:\n",
    "    if x == z:\n",
    "        print(\"x is equal to z\") # resulting output\n",
    "    elif x != z:\n",
    "        print(\"x is not equal to z\") # won't get hit"
   ]
  },
  {
   "cell_type": "code",
   "execution_count": 87,
   "metadata": {},
   "outputs": [
    {
     "name": "stdout",
     "output_type": "stream",
     "text": [
      "You have chosen 4 as num1, and 5 as num2. According to my calculations:\n",
      "\n",
      "5 is greater than 4\n"
     ]
    }
   ],
   "source": [
    "num1 = input(\"Choose a number\")\n",
    "num2 = input(\"Choose another number\")\n",
    "num1= int(num1)\n",
    "num2= int(num2)\n",
    "print(\"You have chosen {} as num1, and {} as num2. According to my calculations:\".format(num1,num2))\n",
    "if num1>num2:\n",
    "    print(\"\\n{} is greater than {}\".format(num1,num2))\n",
    "elif num2>num1:\n",
    "    print(\"\\n{} is greater than {}\".format(num2,num1))\n",
    "elif num2==num1:\n",
    "    print(\"\\n{} is equal to {}\".format(num2,num1))"
   ]
  },
  {
   "cell_type": "code",
   "execution_count": 89,
   "metadata": {},
   "outputs": [
    {
     "name": "stdout",
     "output_type": "stream",
     "text": [
      "\n",
      "100 is equal to 100 \n",
      "You cheeky bugger.\n"
     ]
    }
   ],
   "source": [
    "magic_number = input(\"Choose a number\")\n",
    "magic_number = int(magic_number)\n",
    "if magic_number > 100:\n",
    "    print(\"\\n{} is greater than 100\".format(magic_number))\n",
    "elif magic_number<100:\n",
    "    print(\"\\n{} is less than 100\".format(magic_number))\n",
    "elif magic_number==100:\n",
    "    print(\"\\n{} is equal to 100 \\nYou cheeky bugger.\".format(magic_number))\n"
   ]
  },
  {
   "cell_type": "code",
   "execution_count": 92,
   "metadata": {},
   "outputs": [
    {
     "name": "stdout",
     "output_type": "stream",
     "text": [
      "lower\n"
     ]
    }
   ],
   "source": [
    "\"\"\"Find the Solution: Given the following code, fix any/all errors in order to make\n",
    "it output “lower”:\"\"\"\n",
    "\n",
    "x, y = 5, 10\n",
    "if x > y:\n",
    "    print(\"greater\")\n",
    "elif x < y :\n",
    "    print(\"lower\")"
   ]
  },
  {
   "cell_type": "code",
   "execution_count": 93,
   "metadata": {},
   "outputs": [
    {
     "name": "stdout",
     "output_type": "stream",
     "text": [
      "Hello jeff!\n"
     ]
    }
   ],
   "source": [
    "\"\"\"Else statements \n",
    "The else statement will cover all other possibilities not covered\n",
    "and will always run the code if the program gets to it. This means that if an elif or if\n",
    "statement were to return True, then it would never run the else; however, if they all\n",
    "return False, then the else clause would run no matter what every time.\"\"\"\n",
    "\n",
    "#using an else statement \n",
    "\n",
    "name = \"jeff\"\n",
    "if name ==\"jacob\":\n",
    "    print(\"Hello Jacob!\")\n",
    "else: \n",
    "    print(\"Hello {}!\".format(name))"
   ]
  },
  {
   "cell_type": "code",
   "execution_count": 95,
   "metadata": {},
   "outputs": [
    {
     "name": "stdout",
     "output_type": "stream",
     "text": [
      "Name starts with a H\n"
     ]
    }
   ],
   "source": [
    "name = input(\"Name\")\n",
    "if name[0] == \"A\":\n",
    " print(\"Name starts with an A\")\n",
    "elif name[0] == \"B\":\n",
    " print(\"Name starts with a B\")\n",
    "elif name[0] == \"J\":\n",
    " print(\"Name starts with a J\")\n",
    "else: # covers all other possibilities\n",
    " print( \"Name starts with a {}\".format( name[0] ) )"
   ]
  },
  {
   "cell_type": "code",
   "execution_count": 98,
   "metadata": {},
   "outputs": [
    {
     "name": "stdout",
     "output_type": "stream",
     "text": [
      "Hello John\n"
     ]
    }
   ],
   "source": [
    "#Thursday Exercises \n",
    "name = \"John\"\n",
    "if name == \"Jack\":\n",
    "    print(\"Hello Jack\")\n",
    "elif name != \"Jack\":\n",
    "    print(\"Hello John\")"
   ]
  },
  {
   "cell_type": "code",
   "execution_count": 102,
   "metadata": {},
   "outputs": [
    {
     "name": "stdout",
     "output_type": "stream",
     "text": [
      "Good Evening\n"
     ]
    }
   ],
   "source": [
    "#Ask the user to input the time of day in military time without a colon 1100 = 11:00 AM. Write a conditional statement.\n",
    "\n",
    "time = input(\"Enter a time in military format. E.g. 11:00 AM = '1100'\")\n",
    "time = int(time)\n",
    "if 0000 <=time < 1200:\n",
    "    print(\"Good morning\")\n",
    "elif 1700>time >= 1200:\n",
    "    print(\"Good Afternoon\")\n",
    "elif 1900 > time >=1700:\n",
    "    print(\"Good Evening\")\n",
    "else:\n",
    "    print(\"Goodnight\")"
   ]
  },
  {
   "cell_type": "code",
   "execution_count": 103,
   "metadata": {},
   "outputs": [
    {
     "data": {
      "text/plain": [
       "'\\n1. Ask the user for the calculation they would like to perform.\\n2. Ask the user for the numbers they would like to run the operation\\non.\\n3. Set up try/except clause for mathematical operation.\\na. Convert numbers input to floats.\\nb. Perform operation and print result.\\nc. If an exception is hit, print error.'"
      ]
     },
     "execution_count": 103,
     "metadata": {},
     "output_type": "execute_result"
    }
   ],
   "source": [
    "#Friday project: Creating a calculator\n",
    "\"\"\"\n",
    "1. Ask the user for the calculation they would like to perform.\n",
    "2. Ask the user for the numbers they would like to run the operation\n",
    "on.\n",
    "3. Set up try/except clause for mathematical operation.\n",
    "a. Convert numbers input to floats.\n",
    "b. Perform operation and print result.\n",
    "c. If an exception is hit, print error.\"\"\"\n",
    "\n"
   ]
  },
  {
   "cell_type": "code",
   "execution_count": 129,
   "metadata": {},
   "outputs": [
    {
     "name": "stdout",
     "output_type": "stream",
     "text": [
      "You chose divide.\n",
      "Please keep in mind that the order of your numbers does matter.\n",
      "\n",
      "First Number: 6\n",
      "\n",
      "Second Number: f\n",
      "Error: Improper numbers used. Please try again.\n"
     ]
    }
   ],
   "source": [
    "#Ask the user for calculation to be performed \n",
    "operation = input(\"Would you like to add/subtract/multiply/divide?\").lower()\n",
    "print(\"You chose {}.\".format(operation))\n",
    "\n",
    "#Asking for numbers to perform the operation\n",
    "if operation == \"subtract\" or operation == \"divide\":\n",
    "    print(\"Please keep in mind that the order of your numbers does matter.\")\n",
    "\n",
    "num1 = input(\"What is the first number?\")\n",
    "num2 = input(\"What is the second number?\")\n",
    "print(\"\\nFirst Number: {}\".format(num1))\n",
    "print(\"\\nSecond Number: {}\".format(num2))\n",
    "\n",
    "# try/except for mathematical operation\n",
    "try:\n",
    "    num1,num2 = float(num1),float(num2)\n",
    "    if operation == \"add\":\n",
    "        result = num1+num2\n",
    "        print(\"{} + {} = {}\".format(num1, num2, result))\n",
    "    elif operation == \"subtract\":\n",
    "        result = num1-num2\n",
    "        print(\"{} - {} = {}\".format(num1, num2, result))\n",
    "    elif operation == \"divide\":\n",
    "        result = num1/num2\n",
    "        print(\"{} ÷ {} = {}\".format(num1, num2, result))\n",
    "    elif operation == \"multiply\":\n",
    "        result = num1*num2\n",
    "        print(\"{} × {} = {}\".format(num1, num2, result))\n",
    "    else:\n",
    "        print(\"{} is invalid , try again\".format(operation))\n",
    "except:\n",
    "    print('Error: Improper numbers used. Please try again.')\n"
   ]
  },
  {
   "cell_type": "code",
   "execution_count": 134,
   "metadata": {},
   "outputs": [
    {
     "name": "stdout",
     "output_type": "stream",
     "text": [
      "You chose subtract.\n",
      "Please keep in mind that the order of your numbers does matter.\n",
      "\n",
      "First Number: 6\n",
      "\n",
      "Second Number: 23\n",
      "Currently you are performing 6.0 - 23.0\n",
      "\n",
      "23.0 - 6.0 = 17.0\n"
     ]
    }
   ],
   "source": [
    "#Weekly challenges\n",
    "#Ask the user for calculation to be performed \n",
    "operation = input(\"Would you like to add/subtract/multiply/divide?\").lower()\n",
    "print(\"You chose {}.\".format(operation))\n",
    "\n",
    "#Asking for numbers to perform the operation\n",
    "if operation == \"subtract\" or operation == \"divide\":\n",
    "    print(\"Please keep in mind that the order of your numbers does matter.\")\n",
    "\n",
    "num1 = input(\"What is the first number?\")\n",
    "num2 = input(\"What is the second number?\")\n",
    "print(\"\\nFirst Number: {}\".format(num1))\n",
    "print(\"\\nSecond Number: {}\".format(num2))\n",
    "\n",
    "# try/except for mathematical operation\n",
    "try:\n",
    "    num1,num2 = float(num1),float(num2)\n",
    "    if operation == \"add\":\n",
    "        result = num1+num2\n",
    "        print(\"{} + {} = {}\".format(num1, num2, result))\n",
    "    elif operation == \"subtract\":\n",
    "        print(\"Currently you are performing {} - {}\".format(num1,num2))\n",
    "        ans = input(\"Would you like to reverse the numbers (y/n)\")\n",
    "        if ans == \"y\":\n",
    "            result = num2 - num1\n",
    "            print(\"\\n{} - {} = {}\".format(num2, num1, result))\n",
    "        elif ans == \"n\":\n",
    "            result = num1-num2\n",
    "            print(\"\\n{} - {} = {}\".format(num1, num2, result))\n",
    "    elif operation == \"divide\":\n",
    "        result = num1/num2\n",
    "        print(\"\\n{} ÷ {} = {}\".format(num1, num2, result))\n",
    "    elif operation == \"multiply\":\n",
    "        result = num1*num2\n",
    "        print(\"\\n{} × {} = {}\".format(num1, num2, result))\n",
    "    else:\n",
    "        print(\"\\n{} is invalid , try again\".format(operation))\n",
    "except:\n",
    "    print('Error: Improper numbers used. Please try again.')"
   ]
  },
  {
   "cell_type": "code",
   "execution_count": 166,
   "metadata": {},
   "outputs": [
    {
     "name": "stdout",
     "output_type": "stream",
     "text": [
      "You are a young adult\n"
     ]
    }
   ],
   "source": [
    "age = input(\"Tell me your age\")\n",
    "age = float(age)\n",
    "if 0<age<12 or age ==12:\n",
    "    print(\"You are a kid\")\n",
    "elif 13<age<19 or age ==13 or age ==19:\n",
    "    print(\"You are a teenager\")\n",
    "elif 20<age<=30 or age == 20:\n",
    "    print(\"You are a young adult\")\n",
    "elif 31<=age<=64 :\n",
    "    print(\"You are an older adult\")\n",
    "elif 110<=age<=65:\n",
    "    print(\"You are a senior\")\n",
    "elif age >110:\n",
    "    print(\"I think you are lying to me...\")"
   ]
  },
  {
   "cell_type": "code",
   "execution_count": 164,
   "metadata": {},
   "outputs": [
    {
     "name": "stdout",
     "output_type": "stream",
     "text": [
      "One day Hannah discovered a small rock with something imprinted on it while walking through the woods.\n",
      "The imprint looked like an ant.\n",
      "You place the rock into your pocket. It's getting dark so you head back to camp.\n",
      "\n",
      "After you light the fire you hear an eerie sound in the distance\n",
      "\n",
      "As you are walking through the trees, a bright spotlight suddenly focuses on you.\n",
      "The light is slightly green coloured...you begin to float up towards the spaceship above.\n",
      "\n",
      "You have been abducted by an ant based alien civilisation.\n"
     ]
    }
   ],
   "source": [
    "name = input(\"What is your name\")\n",
    "print(\"One day {} discovered a small rock with something imprinted on it while walking through the woods.\\nThe imprint looked like an ant.\".format(name))\n",
    "ans = input(\"Do you take the rock back to camp? y/n\")\n",
    "if ans ==\"y\":\n",
    "    print(\"You place the rock into your pocket. It's getting dark so you head back to camp.\\n\\nAfter you light the fire you hear an eerie sound in the distance\")\n",
    "    action = input(\"Will you walk towards the sound?y/n\")\n",
    "    if ans ==\"y\":\n",
    "        print(\"\\nAs you are walking through the trees, a bright spotlight suddenly focuses on you.\\nThe light is slightly green coloured...you begin to float up towards the spaceship above.\\n\\nYou have been abducted by an ant based alien civilisation.\")\n",
    "    elif ans ==\"n\":\n",
    "        print(\"As you are trying to sleep the sounds get louder...\\n your tent becomes covered in thousands of ants\")\n",
    "if ans == \"n\":\n",
    "    print(\"You survived the night but tragically got eaten by a bear the next day\")\n"
   ]
  },
  {
   "cell_type": "code",
   "execution_count": null,
   "metadata": {},
   "outputs": [],
   "source": []
  }
 ],
 "metadata": {
  "kernelspec": {
   "display_name": "Python 3",
   "language": "python",
   "name": "python3"
  },
  "language_info": {
   "codemirror_mode": {
    "name": "ipython",
    "version": 3
   },
   "file_extension": ".py",
   "mimetype": "text/x-python",
   "name": "python",
   "nbconvert_exporter": "python",
   "pygments_lexer": "ipython3",
   "version": "3.13.0"
  }
 },
 "nbformat": 4,
 "nbformat_minor": 2
}
